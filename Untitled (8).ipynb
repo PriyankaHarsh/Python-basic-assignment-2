{
 "cells": [
  {
   "cell_type": "markdown",
   "id": "55c9fce7-286f-4ca2-9a33-0e949de5c390",
   "metadata": {},
   "source": [
    "1.What are the two values of the Boolean data type? How do you write them?"
   ]
  },
  {
   "cell_type": "markdown",
   "id": "4a5c20c9-e7eb-4059-ae3f-af9fd1851ef7",
   "metadata": {},
   "source": [
    "The two values of the Boolean data type are:\n",
    "\n",
    "True: Represents the concept of truth or a true condition.\n",
    "False: Represents the concept of falsehood or a false condition.\n",
    "In Python, these values are written as True and False, with the initial letter of each value capitalized. It's important to note that these values are case-sensitive in Python, so writing them as true or false will result in an error."
   ]
  },
  {
   "cell_type": "markdown",
   "id": "7545c324-b3d5-4c74-ae04-db9fd2631926",
   "metadata": {},
   "source": [
    "2.What are the three different types of Boolean operators?"
   ]
  },
  {
   "cell_type": "markdown",
   "id": "d6921af8-49f7-4e56-ad57-c17c6f36fb48",
   "metadata": {},
   "source": [
    "The three different types of Boolean operators are:\n",
    "\n",
    "AND: This operator returns True if both operands are true; otherwise, it returns False. In Python, it is represented by the keyword and.\n",
    "\n",
    "Example:\n",
    "\n",
    "python\n",
    "Copy code\n",
    "True and False  # Returns False\n",
    "OR: This operator returns True if at least one of the operands is true; if both are false, it returns False. In Python, it is represented by the keyword or.\n",
    "\n",
    "Example:\n",
    "\n",
    "python\n",
    "Copy code\n",
    "True or False  # Returns True\n",
    "NOT: This operator returns the opposite of the operand's truth value. If the operand is True, it returns False, and vice versa. In Python, it is represented by the keyword not.\n",
    "\n",
    "Example:\n",
    "\n",
    "python\n",
    "Copy code\n",
    "not True  # Returns False\n",
    "Boolean operators are commonly used in logical expressions to make decisions in control flow or to filter data based on certain conditions."
   ]
  },
  {
   "cell_type": "markdown",
   "id": "1b15e7ee-fbda-4c66-a596-3c0a1ec15550",
   "metadata": {},
   "source": [
    "3. Make a list of each Boolean operator&#39;s truth tables (i.e. every possible combination of Boolean\n",
    "values for the operator and what it evaluate )."
   ]
  },
  {
   "cell_type": "markdown",
   "id": "07efe71a-dcbe-48c4-92d6-5b2269e27d02",
   "metadata": {},
   "source": [
    "Certainly! Here are the truth tables for each Boolean operator:\n",
    "\n",
    "AND (Logical AND):\n",
    "\n",
    "| Operand 1 | Operand 2 | Result |\n",
    "|-----------|-----------|--------|\n",
    "|   False   |   False   | False  |\n",
    "|   False   |   True    | False  |\n",
    "|   True    |   False   | False  |\n",
    "|   True    |   True    | True   |\n",
    "\n",
    "OR (Logical OR):\n",
    "\n",
    "\n",
    "| Operand 1 | Operand 2 | Result |\n",
    "|-----------|-----------|--------|\n",
    "|   False   |   False   | False  |\n",
    "|   False   |   True    | True   |\n",
    "|   True    |   False   | True   |\n",
    "|   True    |   True    | True   |\n",
    "\n",
    "NOT (Logical NOT):\n",
    "\n",
    "| Operand | Result |\n",
    "|---------|--------|\n",
    "|  False  | True   |\n",
    "|  True   | False  |\n",
    "These truth tables show the result of each Boolean operator for all possible combinations of Boolean values.\n",
    "\n",
    "\n",
    "\n",
    "\n"
   ]
  },
  {
   "cell_type": "markdown",
   "id": "83d544f2-fe8d-4c2a-b870-4156d07d6c9d",
   "metadata": {},
   "source": [
    "4. What are the values of the following expressions?\n",
    "(5 &gt; 4) and (3 == 5)\n",
    "not (5 &gt; 4)\n",
    "(5 &gt; 4) or (3 == 5)\n",
    "not ((5 &gt; 4) or (3 == 5))\n",
    "(True and True) and (True == False)\n",
    "(not False) or (not True)"
   ]
  },
  {
   "cell_type": "markdown",
   "id": "eb08180a-72e1-40e9-9ef3-99bf27943fb4",
   "metadata": {},
   "source": [
    "Evaluatation of each expression:\n",
    "\n",
    "(5 > 4) and (3 == 5):\n",
    "\n",
    "5 > 4 is True\n",
    "3 == 5 is False\n",
    "Therefore, the expression is True and False, which evaluates to False.\n",
    "not (5 > 4):\n",
    "\n",
    "5 > 4 is True\n",
    "not True evaluates to False.\n",
    "(5 > 4) or (3 == 5):\n",
    "\n",
    "5 > 4 is True\n",
    "3 == 5 is False\n",
    "Therefore, the expression is True or False, which evaluates to True.\n",
    "not ((5 > 4) or (3 == 5)):\n",
    "\n",
    "(5 > 4) or (3 == 5) is True\n",
    "not True evaluates to False.\n",
    "(True and True) and (True == False):\n",
    "\n",
    "True and True is True\n",
    "True == False is False\n",
    "Therefore, the expression is True and False, which evaluates to False.\n",
    "(not False) or (not True):\n",
    "\n",
    "not False is True\n",
    "not True is False\n",
    "Therefore, the expression is True or False, which evaluates to True.\n",
    "So, the values of the given expressions are:\n",
    "\n",
    "False\n",
    "False\n",
    "True\n",
    "False\n",
    "False\n",
    "True"
   ]
  },
  {
   "cell_type": "markdown",
   "id": "535a3c44-f558-49dd-bf94-73880835765a",
   "metadata": {},
   "source": [
    "5.What are the six comparison operators?"
   ]
  },
  {
   "cell_type": "markdown",
   "id": "a588be8d-ed88-4872-b40a-bb86abc79294",
   "metadata": {},
   "source": [
    "The six comparison operators in Python are:\n",
    "\n",
    "Equal to (==): Checks if two values are equal.\n",
    "\n",
    "Example: 5 == 5 is True, 4 == 7 is False.\n",
    "Not equal to (!=): Checks if two values are not equal.\n",
    "\n",
    "Example: 5 != 5 is False, 4 != 7 is True.\n",
    "Greater than (>): Checks if the left operand is greater than the right operand.\n",
    "\n",
    "Example: 5 > 3 is True, 4 > 7 is False.\n",
    "Less than (<): Checks if the left operand is less than the right operand.\n",
    "\n",
    "Example: 5 < 3 is False, 4 < 7 is True.\n",
    "Greater than or equal to (>=): Checks if the left operand is greater than or equal to the right operand.\n",
    "\n",
    "Example: 5 >= 5 is True, 4 >= 7 is False.\n",
    "Less than or equal to (<=): Checks if the left operand is less than or equal to the right operand.\n",
    "\n",
    "Example: 5 <= 3 is False, 4 <= 7 is True.\n",
    "These operators are used to compare values and create conditions in control flow statements and expressions."
   ]
  },
  {
   "cell_type": "markdown",
   "id": "b45a54ae-5c87-42ad-91e3-0189e05875bb",
   "metadata": {},
   "source": [
    "6.How do you tell the difference between the equal to and assignment operators?Describe a\n",
    "condition and when you would use one."
   ]
  },
  {
   "cell_type": "markdown",
   "id": "9605d522-509f-4556-bf1d-bb08676852cc",
   "metadata": {},
   "source": [
    "The equal to (==) operator is used for comparison, checking whether two values are equal. On the other hand, the assignment operator (=) is used for assigning a value to a variable.\n",
    "\n",
    "Difference:\n",
    "\n",
    "== is a comparison operator that checks equality.\n",
    "= is an assignment operator that assigns a value to a variable."
   ]
  },
  {
   "cell_type": "code",
   "execution_count": 1,
   "id": "16f650dc-cd47-45e6-8972-67e1d69c3dfb",
   "metadata": {},
   "outputs": [],
   "source": [
    "##example\n",
    "# Using == for comparison\n",
    "x = 5\n",
    "y = 7\n",
    "result = (x == y)  # Checks if x is equal to y, result is False\n",
    "\n",
    "# Using = for assignment\n",
    "variable = 10  # Assigns the value 10 to the variable\n"
   ]
  },
  {
   "cell_type": "markdown",
   "id": "33763fdb-8da2-4861-8b66-7e1349ecbe76",
   "metadata": {},
   "source": [
    "Condition Example:\n",
    "\n",
    "Suppose you want to check if a user-provided input is equal to a specific value:"
   ]
  },
  {
   "cell_type": "code",
   "execution_count": 2,
   "id": "d044e2fc-645f-4bc0-b672-70c5cc9909ce",
   "metadata": {},
   "outputs": [
    {
     "name": "stdin",
     "output_type": "stream",
     "text": [
      "Enter a number:  42\n"
     ]
    },
    {
     "name": "stdout",
     "output_type": "stream",
     "text": [
      "You guessed the correct number!\n"
     ]
    }
   ],
   "source": [
    "user_input = input(\"Enter a number: \")\n",
    "expected_number = 42\n",
    "\n",
    "if int(user_input) == expected_number:\n",
    "    print(\"You guessed the correct number!\")\n",
    "else:\n",
    "    print(\"Try again!\")\n"
   ]
  },
  {
   "cell_type": "markdown",
   "id": "43a37e0e-9b21-4b20-916a-511a22aa1ef6",
   "metadata": {},
   "source": [
    "In this example, the == operator is used to compare the user's input (converted to an integer) with the expected number. If they are equal, a message is printed indicating a correct guess. If not, the user is encouraged to try again.\n",
    "\n",
    "In summary, use == when you want to compare values in a condition, and use = when you want to assign a value to a variable. Mixing them up can lead to unintended consequences, such as overwriting values or creating conditions that always evaluate as true."
   ]
  },
  {
   "cell_type": "markdown",
   "id": "aa4f65a5-321d-4b6a-82a2-090ea464f098",
   "metadata": {},
   "source": [
    "7.Identify the three blocks in this code:\n",
    "spam = 0\n",
    "if spam == 10:\n",
    "print(&#39;eggs&#39;)\n",
    "if spam &gt; 5:\n",
    "print(&#39;bacon&#39;)\n",
    "else:\n",
    "print(&#39;ham&#39;)\n",
    "print(&#39;spam&#39;)\n",
    "print(&#39;spam&#39;)"
   ]
  },
  {
   "cell_type": "markdown",
   "id": "c987ba2f-3189-41f3-aa75-ba3322cc016d",
   "metadata": {},
   "source": [
    "In the provided code, it seems there's an issue with indentation. Python uses indentation to define blocks of code. Assuming proper indentation, the three blocks can be identified as follows:"
   ]
  },
  {
   "cell_type": "code",
   "execution_count": 3,
   "id": "8a2973a9-2e1b-4028-b663-48dc4f0090c0",
   "metadata": {},
   "outputs": [
    {
     "name": "stdout",
     "output_type": "stream",
     "text": [
      "ham\n",
      "spam\n",
      "spam\n"
     ]
    }
   ],
   "source": [
    "spam = 0\n",
    "\n",
    "# Block 1\n",
    "if spam == 10:\n",
    "    print('eggs')\n",
    "\n",
    "# Block 2\n",
    "if spam > 5:\n",
    "    print('bacon')\n",
    "else:\n",
    "    # Block 3\n",
    "    print('ham')\n",
    "\n",
    "# The following two lines are not inside any conditional block\n",
    "print('spam')\n",
    "print('spam')\n"
   ]
  },
  {
   "cell_type": "markdown",
   "id": "61b9bbe9-adef-49e7-83b6-3e4a548fa0e7",
   "metadata": {},
   "source": [
    "In this corrected version, there are three distinct blocks:\n",
    "\n",
    "Block 1:\n",
    "if spam == 10:\n",
    "    print('eggs')\n",
    "    \n",
    "Block 2:\n",
    "if spam > 5:\n",
    "    print('bacon')\n",
    "else:\n",
    "\n",
    "Block 3:\n",
    "print('ham')\n",
    "Each block is delineated by indentation. Block 1 and Block 2 are parts of separate if statements, and Block 3 is part of the else clause associated with Block 2."
   ]
  },
  {
   "cell_type": "markdown",
   "id": "05452cc3-d931-49b9-99b4-c9faa6ddea3b",
   "metadata": {},
   "source": [
    "8.Write code that prints Hello if 1 is stored in spam, prints Howdy if 2 is stored in spam, and prints\n",
    "Greetings! if anything else is stored in spam."
   ]
  },
  {
   "cell_type": "code",
   "execution_count": 10,
   "id": "7b7c471d-1f37-4ad3-91b9-17e10e006b12",
   "metadata": {},
   "outputs": [
    {
     "name": "stdout",
     "output_type": "stream",
     "text": [
      "Howdy\n"
     ]
    }
   ],
   "source": [
    "spam = 2  # Assign any value to spam\n",
    "\n",
    "if spam == 1:\n",
    "    print(\"Hello\")\n",
    "elif spam == 2:\n",
    "    print(\"Howdy\")\n",
    "else:\n",
    "    print(\"Greetings!\")\n"
   ]
  },
  {
   "cell_type": "markdown",
   "id": "5b6d2229-cb5d-47bd-9353-a197fa139e40",
   "metadata": {},
   "source": [
    "9.If your programme is stuck in an endless loop, what keys you’ll press?"
   ]
  },
  {
   "cell_type": "markdown",
   "id": "01876a21-74d3-442d-bf3a-a0fd0dc1794c",
   "metadata": {},
   "source": [
    "If program is stuck in an endless loop, can interrupt its execution by pressing a specific key combination. In most environments or terminals, can press:\n",
    "\n",
    "Ctrl + C (Hold down the Control key and press C)\n",
    "This key combination sends an interrupt signal to the running program, causing it to terminate. Keep in mind that forcefully terminating a program may not always leave the program in a clean state, so it's a good idea to review your code and fix the issue causing the infinite loop before running the program again."
   ]
  },
  {
   "cell_type": "markdown",
   "id": "7cb4f155-b59c-43fc-a8f0-f6d24ecc1cff",
   "metadata": {},
   "source": [
    "10.How can you tell the difference between break and continue?"
   ]
  },
  {
   "cell_type": "markdown",
   "id": "39dc53d1-7798-4656-bfa5-0857fc38182d",
   "metadata": {},
   "source": [
    "\n",
    "In programming, break and continue are keywords used in control flow statements, particularly in loops. Here's how you can differentiate between them:\n",
    "\n",
    "break:\n",
    "\n",
    "The break statement is used to exit a loop prematurely, before its normal termination condition is met.\n",
    "When break is encountered inside a loop, the loop is immediately terminated, and the program continues with the next statement after the loop.\n",
    "It is often used when a certain condition is met, and you want to exit the loop early.\n",
    "Example:\n",
    "for i in range(5):\n",
    "    if i == 3:\n",
    "        break\n",
    "    print(i)\n",
    "Output:\n",
    "0\n",
    "1\n",
    "2\n",
    "continue:\n",
    "\n",
    "The continue statement is used to skip the rest of the code inside a loop for the current iteration and move to the next iteration.\n",
    "When continue is encountered, the remaining code in the loop for the current iteration is skipped, and the loop moves on to the next iteration.\n",
    "It is often used when a specific condition is met, and you want to skip the rest of the loop for that iteration but continue with the next one.\n",
    "\n",
    "Example:\n",
    "for i in range(5):\n",
    "    if i == 2:\n",
    "        continue\n",
    "    print(i)\n",
    "\n",
    "Output:\n",
    "0\n",
    "1\n",
    "3\n",
    "4\n",
    "In summary:\n",
    "\n",
    "break is used to exit the loop entirely.\n",
    "continue is used to skip the rest of the code for the current iteration and move on to the next iteration of the loop."
   ]
  },
  {
   "cell_type": "markdown",
   "id": "72579142-773d-4717-9d4b-f17ef44aa60b",
   "metadata": {},
   "source": [
    "11.In a for loop, what is the difference between range(10), range(0, 10), and range(0, 10, 1)?"
   ]
  },
  {
   "cell_type": "markdown",
   "id": "69177cc3-f76d-411f-a257-e3545a0640d6",
   "metadata": {},
   "source": [
    "In a for loop in Python, range(10), range(0, 10), and range(0, 10, 1) are equivalent expressions, and they all generate the same sequence"
   ]
  },
  {
   "cell_type": "markdown",
   "id": "5622e63b-2007-4245-959d-a006ce679370",
   "metadata": {},
   "source": [
    "12.Write a short program that prints the numbers 1 to 10 using a for loop. Then write an equivalent\n",
    "program that prints the numbers 1 to 10 using a while loop."
   ]
  },
  {
   "cell_type": "markdown",
   "id": "f1a5e454-a338-4d55-ade0-bb6d6fe958ed",
   "metadata": {},
   "source": [
    "short programs that print the numbers 1 to 10 using a for loop and a while loop:"
   ]
  },
  {
   "cell_type": "code",
   "execution_count": 11,
   "id": "b9bd419f-dc86-49c1-afee-66008a6a7bf7",
   "metadata": {},
   "outputs": [
    {
     "name": "stdout",
     "output_type": "stream",
     "text": [
      "1\n",
      "2\n",
      "3\n",
      "4\n",
      "5\n",
      "6\n",
      "7\n",
      "8\n",
      "9\n",
      "10\n"
     ]
    }
   ],
   "source": [
    "# Using a for loop\n",
    "for i in range(1, 11):\n",
    "    print(i)\n"
   ]
  },
  {
   "cell_type": "code",
   "execution_count": 12,
   "id": "0cd793da-db0a-4ce5-b542-e5a33ebc2a59",
   "metadata": {},
   "outputs": [
    {
     "name": "stdout",
     "output_type": "stream",
     "text": [
      "1\n",
      "2\n",
      "3\n",
      "4\n",
      "5\n",
      "6\n",
      "7\n",
      "8\n",
      "9\n",
      "10\n"
     ]
    }
   ],
   "source": [
    "# Using a while loop\n",
    "counter = 1\n",
    "while counter <= 10:\n",
    "    print(counter)\n",
    "    counter += 1\n"
   ]
  },
  {
   "cell_type": "markdown",
   "id": "7b6de87e-0c86-4ba5-bf7e-5c12f9a54c0d",
   "metadata": {},
   "source": [
    "In the for loop, range(1, 11) generates a sequence of numbers from 1 to 10 (inclusive). In the while loop, a counter variable is used to iterate from 1 to 10, and the loop continues until the counter reaches 11."
   ]
  },
  {
   "cell_type": "markdown",
   "id": "a9c3635c-a1fa-4ca5-b1d0-7a76d877f4d9",
   "metadata": {},
   "source": [
    "13.If you had a function named bacon() inside a module named spam, how would you call it after\n",
    "importing spam?"
   ]
  },
  {
   "cell_type": "markdown",
   "id": "656f3ac6-82a5-487f-86b2-9e4b5b927bf9",
   "metadata": {},
   "source": [
    "If there is a function named bacon() inside a module named spam, the function can be called after importing the spam module using the following syntax:\n",
    "\n",
    "import spam\n",
    "\n",
    "spam.bacon()\n",
    "\n",
    "This assumes that the bacon() function is defined within the spam module. The import spam statement makes the spam module accessible in the code, and then the dot notation (spam.bacon()) is used to call the bacon() function from the spam module.\n",
    "\n",
    "\n",
    "\n",
    "\n"
   ]
  }
 ],
 "metadata": {
  "kernelspec": {
   "display_name": "Python 3 (ipykernel)",
   "language": "python",
   "name": "python3"
  },
  "language_info": {
   "codemirror_mode": {
    "name": "ipython",
    "version": 3
   },
   "file_extension": ".py",
   "mimetype": "text/x-python",
   "name": "python",
   "nbconvert_exporter": "python",
   "pygments_lexer": "ipython3",
   "version": "3.10.6"
  }
 },
 "nbformat": 4,
 "nbformat_minor": 5
}
